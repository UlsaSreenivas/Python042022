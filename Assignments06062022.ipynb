{
 "cells": [
  {
   "cell_type": "code",
   "execution_count": 13,
   "id": "005b0615",
   "metadata": {},
   "outputs": [
    {
     "name": "stdout",
     "output_type": "stream",
     "text": [
      "Enter a number:51\n",
      "Not Primr Number\n"
     ]
    }
   ],
   "source": [
    "# 1. Write a function to return the given number is prime or not ? input --> number , output --> True/False\n",
    "\n",
    "def prime(n):\n",
    "    flag = False\n",
    "    count = 0\n",
    "    for x in range(3,n//2+1,2):\n",
    "        if n%x == 0:\n",
    "            count +=1\n",
    "    if count == 0:\n",
    "        flag = True\n",
    "    \n",
    "    return flag\n",
    "\n",
    "num = int(input('Enter a number:'))\n",
    "f = prime(num)\n",
    "if f ==True:\n",
    "    print('Prime Number')\n",
    "else:\n",
    "    print('Not Primr Number')"
   ]
  },
  {
   "cell_type": "code",
   "execution_count": 26,
   "id": "a9dc4ce1",
   "metadata": {},
   "outputs": [
    {
     "name": "stdout",
     "output_type": "stream",
     "text": [
      "[5, 11, 29, 37, 43, 53]\n"
     ]
    }
   ],
   "source": [
    "#2.Write a function to return all the prime numbers from the given list? input--> list() of numbers -->output list [prime numbers]\n",
    "\n",
    "def prime(n):\n",
    "    flag = False\n",
    "    count = 0\n",
    "    for x in range(3,n//2+1,2):\n",
    "        if n%2 == 0:\n",
    "            return flag\n",
    "        if n%x == 0:\n",
    "            count +=1\n",
    "    if count == 0:\n",
    "        flag = True\n",
    "    \n",
    "    return flag\n",
    "\n",
    "list1 = [5, 8, 9, 11, 25, 29, 37, 43, 51, 53]\n",
    "prime_list = []\n",
    "for num in list1:\n",
    "    f = prime(num)\n",
    "    if f ==True:\n",
    "        prime_list.append(num)\n",
    "print(prime_list)"
   ]
  },
  {
   "cell_type": "code",
   "execution_count": 27,
   "id": "03d24a58",
   "metadata": {},
   "outputs": [
    {
     "name": "stdout",
     "output_type": "stream",
     "text": [
      "111\n"
     ]
    }
   ],
   "source": [
    "# 3. Write a function to return the absolute (abs()) difference between the sum of even numbers and odd numbers from the given list? input. --> list[], output. --> (+ve) int\n",
    "def fun_abs(list2):\n",
    "    even_sum = 0\n",
    "    odd_sum = 0\n",
    "    for x in list2:\n",
    "        if x%2 == 0:\n",
    "            even_sum += x\n",
    "        else:\n",
    "            odd_sum += x\n",
    "    return abs(even_sum-odd_sum)\n",
    "\n",
    "list1 = [5, 8, 9, 11, 25, 28, 37, 44, 51, 53]\n",
    "print(fun_abs(list1))"
   ]
  },
  {
   "cell_type": "code",
   "execution_count": null,
   "id": "081ae844",
   "metadata": {},
   "outputs": [],
   "source": []
  }
 ],
 "metadata": {
  "kernelspec": {
   "display_name": "Python 3 (ipykernel)",
   "language": "python",
   "name": "python3"
  },
  "language_info": {
   "codemirror_mode": {
    "name": "ipython",
    "version": 3
   },
   "file_extension": ".py",
   "mimetype": "text/x-python",
   "name": "python",
   "nbconvert_exporter": "python",
   "pygments_lexer": "ipython3",
   "version": "3.9.7"
  }
 },
 "nbformat": 4,
 "nbformat_minor": 5
}
